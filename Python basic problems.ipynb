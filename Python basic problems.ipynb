{
 "cells": [
  {
   "cell_type": "markdown",
   "id": "9d397c01",
   "metadata": {},
   "source": [
    "#  Assignment 2 - Python"
   ]
  },
  {
   "cell_type": "markdown",
   "id": "5d55e5ca",
   "metadata": {},
   "source": [
    "### 1. Take values of the length & breadth of a rectangle from user input and check if it is square or not."
   ]
  },
  {
   "cell_type": "code",
   "execution_count": 59,
   "id": "7e13c31e",
   "metadata": {},
   "outputs": [
    {
     "name": "stdout",
     "output_type": "stream",
     "text": [
      "Enter length:  3\n",
      "Enter breadth:  4\n",
      "Not a square\n"
     ]
    }
   ],
   "source": [
    "length = int(input(\"Enter length:  \"))\n",
    "breadth = int(input(\"Enter breadth:  \"))\n",
    "if length == breadth: print(\"Square\")\n",
    "else: print(\"Not a square\")"
   ]
  },
  {
   "cell_type": "markdown",
   "id": "573a8cea",
   "metadata": {},
   "source": [
    "### 2. Take three integer values from the user and print the greatest among them."
   ]
  },
  {
   "cell_type": "code",
   "execution_count": 60,
   "id": "16f4068b",
   "metadata": {},
   "outputs": [
    {
     "name": "stdout",
     "output_type": "stream",
     "text": [
      "Enter 3 numbers seperated by comma: 3,4,5\n",
      "largest number is:  5\n"
     ]
    }
   ],
   "source": [
    "nums = input(\"Enter 3 numbers seperated by comma: \")\n",
    "if nums[-1] == \",\" : nums = nums[:-1]\n",
    "nums = [int(num) for num in nums.split(\",\")]\n",
    "\n",
    "if len(nums) == 3:\n",
    "    if nums[0]> nums[1]:\n",
    "        if nums[0] > nums[2]: largest = nums[0]\n",
    "        else: largest = nums[2]\n",
    "    else:\n",
    "        if nums[1] > nums[2]: largest = nums[1]\n",
    "        else: largest = nums[2]\n",
    "    \n",
    "else: print(\"Enter only 3 numbers\")\n",
    "print(\"largest number is: \",largest)"
   ]
  },
  {
   "cell_type": "markdown",
   "id": "6cd72690",
   "metadata": {},
   "source": [
    "### 3. A student will not be allowed to sit in an exam if his/her attendance is less than 75%."
   ]
  },
  {
   "cell_type": "code",
   "execution_count": 61,
   "id": "80da02ef",
   "metadata": {},
   "outputs": [
    {
     "name": "stdout",
     "output_type": "stream",
     "text": [
      "Enter total number of classes: 34\n",
      "Enter number of classes attended: 22\n",
      "invalid for exam\n"
     ]
    }
   ],
   "source": [
    "total = int(input(\"Enter total number of classes: \"))\n",
    "attend = int(input(\"Enter number of classes attended: \"))\n",
    "if total > attend: \n",
    "    if (attend/total)*100 >= 75: print(\"Can sit in exam\")\n",
    "    else: print(\"invalid for exam\")\n",
    "else: print('Enter values carefully')"
   ]
  },
  {
   "cell_type": "markdown",
   "id": "e69edce9",
   "metadata": {},
   "source": [
    "### 4. A school has the following rules for the grading system:\n",
    "#### Below 25 – F, 25 to 44 – E, 45 to 49 – D, 50 to 59 – C, 60 to 79 – B, 80 to 89 - A, Above 90 - A+\n",
    "#### Now, Ask the user to enter marks and print the corresponding grade."
   ]
  },
  {
   "cell_type": "code",
   "execution_count": 62,
   "id": "924b466b",
   "metadata": {},
   "outputs": [
    {
     "name": "stdout",
     "output_type": "stream",
     "text": [
      "Enter your mark: 34\n",
      "E\n"
     ]
    }
   ],
   "source": [
    "mark = float(input('Enter your mark: '))\n",
    "if mark<25: print('F')\n",
    "elif mark>=25 and mark<=44: print('E')\n",
    "elif mark>44 and mark<=49: print('D')\n",
    "elif mark>49 and mark<=59: print('C')\n",
    "elif mark>59 and mark<=79: print('B')\n",
    "elif mark>79 and mark<=89: print('A')\n",
    "else: print('A+')"
   ]
  },
  {
   "cell_type": "markdown",
   "id": "f95b989a",
   "metadata": {},
   "source": [
    "### 5. Print the following pattern using for and while loop.\n",
    "#### 1 2 3 4 5 6 7\n",
    "#### 1 2 3 4 5 6\n",
    "#### 1 2 3 4 5\n",
    "#### 1 2 3 4"
   ]
  },
  {
   "cell_type": "code",
   "execution_count": 73,
   "id": "f9a2cf1f",
   "metadata": {},
   "outputs": [
    {
     "name": "stdout",
     "output_type": "stream",
     "text": [
      "1 2 3 4 5 6 7 \n",
      "1 2 3 4 5 6 \n",
      "1 2 3 4 5 \n",
      "1 2 3 4 \n"
     ]
    }
   ],
   "source": [
    "#using for\n",
    "for i in range(7,3,-1):\n",
    "    for j in range(1,i+1):\n",
    "        print(j, end = ' ')\n",
    "    print()"
   ]
  },
  {
   "cell_type": "code",
   "execution_count": 74,
   "id": "b097e6f6",
   "metadata": {},
   "outputs": [
    {
     "name": "stdout",
     "output_type": "stream",
     "text": [
      "1 2 3 4 5 6 7 \n",
      "1 2 3 4 5 6 \n",
      "1 2 3 4 5 \n",
      "1 2 3 4 \n"
     ]
    }
   ],
   "source": [
    "#using while\n",
    "i = 7\n",
    "while(i > 3):\n",
    "    j = 1\n",
    "    while(j <= i):\n",
    "        print(j, end = \" \")\n",
    "        j += 1\n",
    "    print()\n",
    "    i -=1"
   ]
  },
  {
   "cell_type": "markdown",
   "id": "7a69a2bc",
   "metadata": {},
   "source": [
    "### 6. Display numbers from -100 to -10 using for loop."
   ]
  },
  {
   "cell_type": "code",
   "execution_count": 75,
   "id": "4a5758ab",
   "metadata": {},
   "outputs": [
    {
     "name": "stdout",
     "output_type": "stream",
     "text": [
      "-100 -99 -98 -97 -96 -95 -94 -93 -92 -91 -90 -89 -88 -87 -86 -85 -84 -83 -82 -81 -80 -79 -78 -77 -76 -75 -74 -73 -72 -71 -70 -69 -68 -67 -66 -65 -64 -63 -62 -61 -60 -59 -58 -57 -56 -55 -54 -53 -52 -51 -50 -49 -48 -47 -46 -45 -44 -43 -42 -41 -40 -39 -38 -37 -36 -35 -34 -33 -32 -31 -30 -29 -28 -27 -26 -25 -24 -23 -22 -21 -20 -19 -18 -17 -16 -15 -14 -13 -12 -11 -10 "
     ]
    }
   ],
   "source": [
    "for i in range(-100,-9):\n",
    "    print(i, end=\" \")"
   ]
  },
  {
   "cell_type": "markdown",
   "id": "bf9b63f5",
   "metadata": {},
   "source": [
    "### 7. Write a program to sum all prime numbers within a range of 10 to 1000."
   ]
  },
  {
   "cell_type": "code",
   "execution_count": 11,
   "id": "f897ab3f",
   "metadata": {},
   "outputs": [
    {
     "name": "stdout",
     "output_type": "stream",
     "text": [
      "Sum of all prime numbers within 10 to 1000 is  76110\n"
     ]
    }
   ],
   "source": [
    "sum = 0\n",
    "def isPrime(num):    \n",
    "    for i in range(2, int(num*0.5) + 1):\n",
    "        if num % i == 0:\n",
    "            return False\n",
    "    return True\n",
    "    \n",
    "for i in range(10,1001):\n",
    "    if isPrime(i): sum = sum+ i\n",
    "print(\"Sum of all prime numbers within 10 to 1000 is \",sum)"
   ]
  },
  {
   "cell_type": "markdown",
   "id": "9834239b",
   "metadata": {},
   "source": [
    "### 8. Find the factorial of an n! (Hint, n=7: 7*6*5*4*3*2*1)."
   ]
  },
  {
   "cell_type": "code",
   "execution_count": 66,
   "id": "52472c0d",
   "metadata": {},
   "outputs": [
    {
     "name": "stdout",
     "output_type": "stream",
     "text": [
      "Enter a number : 4\n",
      "Factorial of  4  is  24\n"
     ]
    }
   ],
   "source": [
    "result = 1\n",
    "n = int(input(\"Enter a number : \"))\n",
    "for i in range(1,n+1):\n",
    "    result = result*i\n",
    "print(\"Factorial of \",n,\" is \",result)\n"
   ]
  },
  {
   "cell_type": "markdown",
   "id": "ae07d427",
   "metadata": {},
   "source": [
    "### 9. Reverse a given integer number 27956240710."
   ]
  },
  {
   "cell_type": "code",
   "execution_count": 77,
   "id": "7da9ff18",
   "metadata": {},
   "outputs": [
    {
     "name": "stdout",
     "output_type": "stream",
     "text": [
      "Reversed number:  1704265972\n"
     ]
    }
   ],
   "source": [
    "num = 27956240710\n",
    "li =[]\n",
    "while(num>0):\n",
    "    li.append(str(int(num%10)))\n",
    "    num = int(num/10)\n",
    "print('Reversed number: ',int(''.join(li)))\n"
   ]
  },
  {
   "cell_type": "markdown",
   "id": "dc59ff0b",
   "metadata": {},
   "source": [
    "### 10. Print the following pattern using for and while loop.\n",
    "#### # # #\n",
    "#### # # # #\n",
    "#### # # #\n",
    "#### # #"
   ]
  },
  {
   "cell_type": "code",
   "execution_count": 68,
   "id": "6e920ab4",
   "metadata": {},
   "outputs": [
    {
     "name": "stdout",
     "output_type": "stream",
     "text": [
      "# # \n",
      "# # # \n",
      "# # \n",
      "# \n"
     ]
    }
   ],
   "source": [
    "for i in range(2, 6):\n",
    "    if i <= 3:\n",
    "        print(\"# \" * i)\n",
    "    else:\n",
    "        print(\"# \" * (6 - i))"
   ]
  },
  {
   "cell_type": "code",
   "execution_count": 78,
   "id": "5f9080cb",
   "metadata": {},
   "outputs": [
    {
     "name": "stdout",
     "output_type": "stream",
     "text": [
      "# # \n",
      "# # # \n",
      "# # \n",
      "# \n",
      "\n",
      "\n"
     ]
    }
   ],
   "source": [
    "i = 1\n",
    "while(i<=6):\n",
    "    i = i+1\n",
    "    if i <= 3:\n",
    "        print(\"# \" * i)\n",
    "    else:\n",
    "        print(\"# \" * (6 - i))"
   ]
  },
  {
   "cell_type": "markdown",
   "id": "d406ee50",
   "metadata": {},
   "source": [
    "### 11.Display the Fibonacci series of 15 elements using the for and while loop."
   ]
  },
  {
   "cell_type": "code",
   "execution_count": 6,
   "id": "56837995",
   "metadata": {},
   "outputs": [
    {
     "name": "stdout",
     "output_type": "stream",
     "text": [
      "[0, 1, 1, 2, 3, 5, 8, 13, 21, 34, 55, 89, 144, 233, 377]\n"
     ]
    }
   ],
   "source": [
    "elements = 15\n",
    "series = [0 ,1]\n",
    "for i in range(1,elements-1):\n",
    "    series.append(series[i] + series[i-1])\n",
    "print(series)"
   ]
  },
  {
   "cell_type": "code",
   "execution_count": 7,
   "id": "ba453937",
   "metadata": {},
   "outputs": [
    {
     "name": "stdout",
     "output_type": "stream",
     "text": [
      "[0, 1, 1, 2, 3, 5, 8, 13, 21, 34, 55, 89, 144, 233, 377]\n"
     ]
    }
   ],
   "source": [
    "i = 0\n",
    "series = [0 ,1]\n",
    "while(i < elements-2):\n",
    "    i += 1\n",
    "    series.append(series[i] + series[i-1])\n",
    "print(series)"
   ]
  },
  {
   "cell_type": "markdown",
   "id": "06035ee6",
   "metadata": {},
   "source": [
    "### 12. Remove 2 and add 3 to the list and replace True with False.\n",
    "#### Li = [1,3,5, [2,3], True]\n",
    "#### Output = [1,3,5, [3,3], False]"
   ]
  },
  {
   "cell_type": "code",
   "execution_count": null,
   "id": "e93fe39d",
   "metadata": {},
   "outputs": [],
   "source": [
    "Li = [1, 3, 5, [2, 3], True]\n",
    "Li[3].remove(2)\n",
    "Li[3].append(3)\n",
    "Li[-1] = False\n",
    "print(Li)"
   ]
  },
  {
   "cell_type": "markdown",
   "id": "1775b150",
   "metadata": {},
   "source": [
    "### 13. Find the intersection (common) of two sets.\n",
    "#### S1 = {1,4,6,8}\n",
    "#### S2 = {True, 1,2,10}"
   ]
  },
  {
   "cell_type": "code",
   "execution_count": 10,
   "id": "0da758aa",
   "metadata": {},
   "outputs": [
    {
     "name": "stdout",
     "output_type": "stream",
     "text": [
      "{True}\n"
     ]
    }
   ],
   "source": [
    "S1 = {1,4,6,8}\n",
    "S2 = {True,1,2,10}\n",
    "print(S1.intersection(S2))"
   ]
  },
  {
   "cell_type": "markdown",
   "id": "73200cab",
   "metadata": {},
   "source": [
    "### 14. Input a list from the user then Remove duplicates from a list and create a set and find the max\n",
    "### number. User_input = [1,9,3,4,5,200,54]"
   ]
  },
  {
   "cell_type": "code",
   "execution_count": 32,
   "id": "aa6a5196",
   "metadata": {},
   "outputs": [
    {
     "name": "stdout",
     "output_type": "stream",
     "text": [
      "The list without duplicate:  {1, 3, 4, 5, 200, 9, 54}\n",
      "Maximum in this list:  200\n"
     ]
    }
   ],
   "source": [
    "user_input = [1, 9, 3, 4, 5, 200, 54]\n",
    "uniqueSet = set(user_input)\n",
    "maxNum = max(uniqueSet)\n",
    "print('The list without duplicate: ',uniqueSet)\n",
    "print('Maximum in this list: ',maxNum)"
   ]
  },
  {
   "cell_type": "markdown",
   "id": "9ff8f1c4",
   "metadata": {},
   "source": [
    "### 15.Rename the key of a dictionary.\n",
    "#### Dict = { \"name\": \"Shakil\", \"age\":27, \"city\": “Berlin”, \"country\": \"Germany\" }\n",
    "#### Write a program to rename a key ‘country’ to a ‘region’ in the following dictionary."
   ]
  },
  {
   "cell_type": "code",
   "execution_count": 34,
   "id": "a48f5fb6",
   "metadata": {},
   "outputs": [
    {
     "name": "stdout",
     "output_type": "stream",
     "text": [
      "{'name': 'Shakil', 'age': 27, 'city': 'Berlin', 'region': 'Germany'}\n"
     ]
    }
   ],
   "source": [
    "Dict = { \"name\": \"Shakil\", \"age\":27, \"city\": \"Berlin\", \"country\": \"Germany\" }\n",
    "value = Dict[\"country\"]\n",
    "Dict[\"region\"] = value\n",
    "del Dict[\"country\"]\n",
    "print(Dict)"
   ]
  },
  {
   "cell_type": "markdown",
   "id": "6df47bf3",
   "metadata": {},
   "source": [
    "### 16. Creating a data frame using the list.\n",
    "#### num = [10,100,300] (column name is number)"
   ]
  },
  {
   "cell_type": "code",
   "execution_count": 38,
   "id": "34c45070",
   "metadata": {},
   "outputs": [
    {
     "data": {
      "text/html": [
       "<div>\n",
       "<style scoped>\n",
       "    .dataframe tbody tr th:only-of-type {\n",
       "        vertical-align: middle;\n",
       "    }\n",
       "\n",
       "    .dataframe tbody tr th {\n",
       "        vertical-align: top;\n",
       "    }\n",
       "\n",
       "    .dataframe thead th {\n",
       "        text-align: right;\n",
       "    }\n",
       "</style>\n",
       "<table border=\"1\" class=\"dataframe\">\n",
       "  <thead>\n",
       "    <tr style=\"text-align: right;\">\n",
       "      <th></th>\n",
       "      <th>number</th>\n",
       "    </tr>\n",
       "  </thead>\n",
       "  <tbody>\n",
       "    <tr>\n",
       "      <th>0</th>\n",
       "      <td>10</td>\n",
       "    </tr>\n",
       "    <tr>\n",
       "      <th>1</th>\n",
       "      <td>100</td>\n",
       "    </tr>\n",
       "    <tr>\n",
       "      <th>2</th>\n",
       "      <td>300</td>\n",
       "    </tr>\n",
       "  </tbody>\n",
       "</table>\n",
       "</div>"
      ],
      "text/plain": [
       "   number\n",
       "0      10\n",
       "1     100\n",
       "2     300"
      ]
     },
     "execution_count": 38,
     "metadata": {},
     "output_type": "execute_result"
    }
   ],
   "source": [
    "import pandas as pd\n",
    "num = [10,100,300]\n",
    "df = pd.DataFrame(num,columns=['number'])\n",
    "df"
   ]
  },
  {
   "cell_type": "markdown",
   "id": "f791c5c6",
   "metadata": {},
   "source": [
    "### 17. Change the value of a key in a given dictionary.\n",
    "#### Write a Python program to change ‘age’ to 28 in the following dictionary.\n",
    "#### Dict = { \"name\": \"Shakil\", \"age\":27, \"city\": “Berlin”, \"country\": \"Germany\" }"
   ]
  },
  {
   "cell_type": "code",
   "execution_count": 39,
   "id": "39670cb5",
   "metadata": {},
   "outputs": [
    {
     "data": {
      "text/plain": [
       "{'name': 'Shakil', 'age': 28, 'city': 'Berlin', 'country': 'Germany'}"
      ]
     },
     "execution_count": 39,
     "metadata": {},
     "output_type": "execute_result"
    }
   ],
   "source": [
    "Dict = { \"name\": \"Shakil\", \"age\":27, \"city\": \"Berlin\", \"country\": \"Germany\" }\n",
    "Dict['age'] = 28\n",
    "Dict"
   ]
  }
 ],
 "metadata": {
  "kernelspec": {
   "display_name": "Python 3 (ipykernel)",
   "language": "python",
   "name": "python3"
  },
  "language_info": {
   "codemirror_mode": {
    "name": "ipython",
    "version": 3
   },
   "file_extension": ".py",
   "mimetype": "text/x-python",
   "name": "python",
   "nbconvert_exporter": "python",
   "pygments_lexer": "ipython3",
   "version": "3.10.9"
  }
 },
 "nbformat": 4,
 "nbformat_minor": 5
}
